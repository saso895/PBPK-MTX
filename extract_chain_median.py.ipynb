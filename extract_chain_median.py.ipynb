{
 "cells": [
  {
   "cell_type": "code",
   "execution_count": 5,
   "id": "ccbf49df",
   "metadata": {},
   "outputs": [],
   "source": [
    "# ==============================================================\n",
    "#  extract_chain_median.py  ✧  单链中位数导出（与 Simu.py 变量名对齐）\n",
    "#  --------------------------------------------------------------\n",
    "#  用法：\n",
    "#    1) 确认 CHAIN_IDX=3，并将 CHAIN_DRAW_FILE 指向第三条链的 pkl\n",
    "#    2) python extract_chain_median.py\n",
    "#  产物：\n",
    "#    saved_result/adult_params_chain3_median.json\n",
    "#    saved_result/adult_params_chain3_median.npy\n",
    "# ==============================================================\n",
    "\n",
    "import os, pickle, json, datetime\n",
    "import numpy as np\n",
    "\n",
    "# === 与现有脚本保持相同的“配置变量名” ==============================\n",
    "PARAM_SOURCE = \"mcmc\"   # {\"init\", \"modfit\", \"mcmc\", \"file\"} —— 仅占位，不参与计算\n",
    "CHAIN_IDX = 3           # ← 这里固定选择“第三条链”\n",
    "CHAIN_DRAW_FILE = f\"saved_result/chain{CHAIN_IDX}_draws2025-07-19.pkl\"\n",
    "N_SAMPLES = 500         # ← 占位，不参与本脚本运算"
   ]
  },
  {
   "cell_type": "code",
   "execution_count": 6,
   "id": "fb540be6",
   "metadata": {},
   "outputs": [],
   "source": [
    "# === 读取该链抽样 ====================================================\n",
    "if not os.path.exists(CHAIN_DRAW_FILE):\n",
    "    raise FileNotFoundError(f\"找不到链文件：{CHAIN_DRAW_FILE}\")\n",
    "\n",
    "with open(CHAIN_DRAW_FILE, \"rb\") as f:\n",
    "    chain_draws = pickle.load(f)   # 期望形状: (n_draw, n_param+... )\n",
    "\n",
    "if not isinstance(chain_draws, np.ndarray):\n",
    "    chain_draws = np.asarray(chain_draws)\n",
    "\n",
    "# 仅取前10个模型参数（忽略 sigma 等）\n",
    "if chain_draws.shape[1] < 10:\n",
    "    raise ValueError(f\"此链参数列数不足 10 列，实际为 {chain_draws.shape[1]} 列。\")\n",
    "\n",
    "param_draws = chain_draws[:, :10]\n",
    "\n",
    "# 丢弃 burn-in（前10%）\n",
    "start = int(0.1 * len(param_draws))\n",
    "if start >= len(param_draws):\n",
    "    raise ValueError(\"样本量过小，无法丢弃 burn-in。\")\n",
    "param_draws = param_draws[start:, :]"
   ]
  },
  {
   "cell_type": "code",
   "execution_count": 3,
   "id": "332c2b47",
   "metadata": {},
   "outputs": [],
   "source": [
    "# 逐参数取中位数\n",
    "param_median = np.median(param_draws, axis=0)  # shape: (10,)\n",
    "\n",
    "# === 保存输出 ========================================================\n",
    "SAVE_DIR = \"saved_result\"\n",
    "os.makedirs(SAVE_DIR, exist_ok=True)\n",
    "today = datetime.datetime.now().strftime(\"%Y-%m-%d\")\n",
    "\n",
    "# 保存为 json（带参数索引）\n",
    "out_json = {\n",
    "    \"meta\": {\n",
    "        \"chain_idx\": CHAIN_IDX,\n",
    "        \"source_file\": os.path.basename(CHAIN_DRAW_FILE),\n",
    "        \"burn_in_fraction\": 0.10,\n",
    "        \"created_at\": today,\n",
    "        \"note\": \"前10个模型参数的后验中位数，用作成人基线参数。\"\n",
    "    },\n",
    "    \"param_names\": [f\"theta{i+1}\" for i in range(10)],\n",
    "    \"param_median\": param_median.tolist()\n",
    "}\n",
    "json_path = os.path.join(SAVE_DIR, f\"adult_params_chain{CHAIN_IDX}_median.json\")\n",
    "with open(json_path, \"w\", encoding=\"utf-8\") as f:\n",
    "    json.dump(out_json, f, ensure_ascii=False, indent=2)"
   ]
  },
  {
   "cell_type": "code",
   "execution_count": 4,
   "id": "b18c2036",
   "metadata": {},
   "outputs": [
    {
     "name": "stdout",
     "output_type": "stream",
     "text": [
      "✅ 已生成成人基线参数（后验中位数）：\n",
      "  theta01 = 0.00143049\n",
      "  theta02 = 0.00154262\n",
      "  theta03 = 9.58456\n",
      "  theta04 = 0.21246\n",
      "  theta05 = 1.69697\n",
      "  theta06 = 0.854916\n",
      "  theta07 = 1.56245\n",
      "  theta08 = 16.7723\n",
      "  theta09 = 0.0287982\n",
      "  theta10 = 0.000606328\n",
      "\n",
      "已保存：\n",
      "  - saved_result\\adult_params_chain3_median.json\n",
      "  - saved_result\\adult_params_chain3_median.npy\n"
     ]
    }
   ],
   "source": [
    "# 另存 .npy 便于后续快速加载\n",
    "npy_path = os.path.join(SAVE_DIR, f\"adult_params_chain{CHAIN_IDX}_median.npy\")\n",
    "np.save(npy_path, param_median)\n",
    "\n",
    "# 终端输出\n",
    "print(\"✅ 已生成成人基线参数（后验中位数）：\")\n",
    "for i, v in enumerate(param_median, 1):\n",
    "    print(f\"  theta{i:02d} = {v:.6g}\")\n",
    "print(f\"\\n已保存：\\n  - {json_path}\\n  - {npy_path}\")"
   ]
  }
 ],
 "metadata": {
  "kernelspec": {
   "display_name": "pymc3",
   "language": "python",
   "name": "python3"
  },
  "language_info": {
   "codemirror_mode": {
    "name": "ipython",
    "version": 3
   },
   "file_extension": ".py",
   "mimetype": "text/x-python",
   "name": "python",
   "nbconvert_exporter": "python",
   "pygments_lexer": "ipython3",
   "version": "3.8.20"
  }
 },
 "nbformat": 4,
 "nbformat_minor": 5
}
