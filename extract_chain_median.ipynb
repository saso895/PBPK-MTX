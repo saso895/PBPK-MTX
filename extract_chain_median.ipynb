{
 "cells": [
  {
   "cell_type": "code",
   "execution_count": 1,
   "id": "4cd218aa",
   "metadata": {},
   "outputs": [],
   "source": [
    "# ==============================================================\n",
    "#  extract_chain_median.py  ✧  单链中位数导出（与 Simu.py 变量名对齐）\n",
    "#  --------------------------------------------------------------\n",
    "#  用法：\n",
    "#    1) 确认 CHAIN_IDX=3，并将 CHAIN_DRAW_FILE 指向第三条链的 pkl\n",
    "#    2) python extract_chain_median.py\n",
    "#  产物：\n",
    "#    saved_result/adult_params_chain3_median.json\n",
    "#    saved_result/adult_params_chain3_median.npy\n",
    "# ==============================================================\n",
    "\n",
    "import os, pickle, json, datetime\n",
    "import numpy as np\n",
    "# 在文件开头其它 import 之后，新增\n",
    "from importlib import import_module\n",
    "\n",
    "# === 约定：按 MCMC 保存的 10 列顺序，给出真实参数名 =========================\n",
    "# 如果你的链列顺序不同，就在这里调整顺序即可（仅改这一行就行）\n",
    "OPT_PARAM_NAMES = [\n",
    "    \"PRest\", \"PK\", \"PL\", \"Kbile\", \"GFR\",\n",
    "    \"Free\", \"Vmax_baso\", \"Km_baso\", \"Kurine\", \"Kreab\"\n",
    "]\n",
    "\n",
    "# === 与现有脚本保持相同的“配置变量名” ==============================\n",
    "PARAM_SOURCE = \"mcmc\"   # {\"init\", \"modfit\", \"mcmc\", \"file\"} —— 仅占位，不参与计算\n",
    "CHAIN_IDX = 3           # ← 这里固定选择“第三条链”\n",
    "CHAIN_DRAW_FILE = f\"saved_result/chain{CHAIN_IDX}_draws2025-07-19.pkl\"\n",
    "N_SAMPLES = 500         # ← 占位，不参与本脚本运算"
   ]
  },
  {
   "cell_type": "code",
   "execution_count": 4,
   "id": "1bd33f88",
   "metadata": {},
   "outputs": [],
   "source": [
    "# === 读取该链抽样 ====================================================\n",
    "if not os.path.exists(CHAIN_DRAW_FILE):\n",
    "    raise FileNotFoundError(f\"找不到链文件：{CHAIN_DRAW_FILE}\")\n",
    "\n",
    "with open(CHAIN_DRAW_FILE, \"rb\") as f:\n",
    "    chain_draws = pickle.load(f)   # 期望形状: (n_draw, n_param+... )\n",
    "\n",
    "if not isinstance(chain_draws, np.ndarray):\n",
    "    chain_draws = np.asarray(chain_draws)\n",
    "\n",
    "# 仅取前10个模型参数（忽略 sigma 等）\n",
    "if chain_draws.shape[1] < 10:\n",
    "    raise ValueError(f\"此链参数列数不足 10 列，实际为 {chain_draws.shape[1]} 列。\")\n",
    "\n",
    "param_draws = chain_draws[:, :10]\n",
    "\n",
    "# 丢弃 burn-in（前10%）\n",
    "start = int(0.1 * len(param_draws))\n",
    "if start >= len(param_draws):\n",
    "    raise ValueError(\"样本量过小，无法丢弃 burn-in。\")\n",
    "param_draws = param_draws[start:, :]"
   ]
  },
  {
   "cell_type": "code",
   "execution_count": 5,
   "id": "3dc96d2d",
   "metadata": {},
   "outputs": [],
   "source": [
    "# 逐参数取中位数\n",
    "param_median = np.median(param_draws, axis=0)  # shape: (10,)\n",
    "\n",
    "# === 保存输出 ========================================================\n",
    "SAVE_DIR = \"saved_result\"\n",
    "os.makedirs(SAVE_DIR, exist_ok=True)\n",
    "today = datetime.datetime.now().strftime(\"%Y-%m-%d\")\n",
    "\n",
    "# 名称就用你上面给的 OPT_PARAM_NAMES（只取前10个）\n",
    "param_names_final = OPT_PARAM_NAMES[:10]\n",
    "\n",
    "# 生成 {name: value} 字典\n",
    "name_value_pairs = {param_names_final[i]: float(param_median[i]) for i in range(10)}\n",
    "\n",
    "# 组织 JSON\n",
    "out_json = {\n",
    "    \"meta\": {\n",
    "        \"chain_idx\": CHAIN_IDX,\n",
    "        \"source_file\": os.path.basename(CHAIN_DRAW_FILE),\n",
    "        \"burn_in_fraction\": 0.10,\n",
    "        \"created_at\": today,\n",
    "        \"note\": \"前10个模型参数的后验中位数（带真实参数名）。\"\n",
    "    },\n",
    "    \"param_names\": param_names_final,\n",
    "    \"param_median\": [name_value_pairs[n] for n in param_names_final],\n",
    "    \"param_map\": name_value_pairs\n",
    "}\n",
    "\n",
    "# 写文件\n",
    "json_path = os.path.join(SAVE_DIR, f\"adult_params_chain{CHAIN_IDX}_median.json\")\n",
    "with open(json_path, \"w\", encoding=\"utf-8\") as f:\n",
    "    json.dump(out_json, f, ensure_ascii=False, indent=2)"
   ]
  },
  {
   "cell_type": "code",
   "execution_count": 6,
   "id": "f07923bd",
   "metadata": {},
   "outputs": [
    {
     "name": "stdout",
     "output_type": "stream",
     "text": [
      "✅ 已生成成人基线参数（后验中位数，含参数名）：\n",
      "  PRest        = 0.00143049\n",
      "  PK           = 0.00154262\n",
      "  PL           = 9.58456\n",
      "  Kbile        = 0.21246\n",
      "  GFR          = 1.69697\n",
      "  Free         = 0.854916\n",
      "  Vmax_baso    = 1.56245\n",
      "  Km_baso      = 16.7723\n",
      "  Kurine       = 0.0287982\n",
      "  Kreab        = 0.000606328\n",
      "\n",
      "已保存：\n",
      "  - saved_result\\adult_params_chain3_median.json\n",
      "  - saved_result\\adult_params_chain3_median.npy\n"
     ]
    }
   ],
   "source": [
    "# 另存 .npy（顺序与 param_names_final 对齐）\n",
    "npy_path = os.path.join(SAVE_DIR, f\"adult_params_chain{CHAIN_IDX}_median.npy\")\n",
    "np.save(npy_path, np.array([name_value_pairs[n] for n in param_names_final], dtype=float))\n",
    "\n",
    "# 终端输出（带真实参数名）\n",
    "print(\"✅ 已生成成人基线参数（后验中位数，含参数名）：\")\n",
    "for n in param_names_final:\n",
    "    print(f\"  {n:12s} = {name_value_pairs[n]:.6g}\")\n",
    "print(f\"\\n已保存：\\n  - {json_path}\\n  - {npy_path}\")"
   ]
  }
 ],
 "metadata": {
  "kernelspec": {
   "display_name": "pymc3",
   "language": "python",
   "name": "python3"
  },
  "language_info": {
   "codemirror_mode": {
    "name": "ipython",
    "version": 3
   },
   "file_extension": ".py",
   "mimetype": "text/x-python",
   "name": "python",
   "nbconvert_exporter": "python",
   "pygments_lexer": "ipython3",
   "version": "3.8.20"
  }
 },
 "nbformat": 4,
 "nbformat_minor": 5
}
